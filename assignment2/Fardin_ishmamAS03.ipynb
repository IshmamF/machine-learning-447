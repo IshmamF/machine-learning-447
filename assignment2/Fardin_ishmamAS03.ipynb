{
 "cells": [
  {
   "cell_type": "code",
   "execution_count": 2,
   "metadata": {},
   "outputs": [
    {
     "data": {
      "text/html": [
       "<div>\n",
       "<style scoped>\n",
       "    .dataframe tbody tr th:only-of-type {\n",
       "        vertical-align: middle;\n",
       "    }\n",
       "\n",
       "    .dataframe tbody tr th {\n",
       "        vertical-align: top;\n",
       "    }\n",
       "\n",
       "    .dataframe thead th {\n",
       "        text-align: right;\n",
       "    }\n",
       "</style>\n",
       "<table border=\"1\" class=\"dataframe\">\n",
       "  <thead>\n",
       "    <tr style=\"text-align: right;\">\n",
       "      <th></th>\n",
       "      <th>sepal length</th>\n",
       "      <th>sepal width</th>\n",
       "      <th>petal length</th>\n",
       "      <th>petal width</th>\n",
       "      <th>species</th>\n",
       "    </tr>\n",
       "  </thead>\n",
       "  <tbody>\n",
       "    <tr>\n",
       "      <th>0</th>\n",
       "      <td>5.1</td>\n",
       "      <td>3.5</td>\n",
       "      <td>1.4</td>\n",
       "      <td>0.2</td>\n",
       "      <td>0</td>\n",
       "    </tr>\n",
       "    <tr>\n",
       "      <th>1</th>\n",
       "      <td>4.9</td>\n",
       "      <td>3.0</td>\n",
       "      <td>1.4</td>\n",
       "      <td>0.2</td>\n",
       "      <td>0</td>\n",
       "    </tr>\n",
       "    <tr>\n",
       "      <th>2</th>\n",
       "      <td>4.7</td>\n",
       "      <td>3.2</td>\n",
       "      <td>1.3</td>\n",
       "      <td>0.2</td>\n",
       "      <td>0</td>\n",
       "    </tr>\n",
       "    <tr>\n",
       "      <th>3</th>\n",
       "      <td>4.6</td>\n",
       "      <td>3.1</td>\n",
       "      <td>1.5</td>\n",
       "      <td>0.2</td>\n",
       "      <td>0</td>\n",
       "    </tr>\n",
       "    <tr>\n",
       "      <th>4</th>\n",
       "      <td>5.0</td>\n",
       "      <td>3.6</td>\n",
       "      <td>1.4</td>\n",
       "      <td>0.2</td>\n",
       "      <td>0</td>\n",
       "    </tr>\n",
       "    <tr>\n",
       "      <th>...</th>\n",
       "      <td>...</td>\n",
       "      <td>...</td>\n",
       "      <td>...</td>\n",
       "      <td>...</td>\n",
       "      <td>...</td>\n",
       "    </tr>\n",
       "    <tr>\n",
       "      <th>145</th>\n",
       "      <td>6.7</td>\n",
       "      <td>3.0</td>\n",
       "      <td>5.2</td>\n",
       "      <td>2.3</td>\n",
       "      <td>2</td>\n",
       "    </tr>\n",
       "    <tr>\n",
       "      <th>146</th>\n",
       "      <td>6.3</td>\n",
       "      <td>2.5</td>\n",
       "      <td>5.0</td>\n",
       "      <td>1.9</td>\n",
       "      <td>2</td>\n",
       "    </tr>\n",
       "    <tr>\n",
       "      <th>147</th>\n",
       "      <td>6.5</td>\n",
       "      <td>3.0</td>\n",
       "      <td>5.2</td>\n",
       "      <td>2.0</td>\n",
       "      <td>2</td>\n",
       "    </tr>\n",
       "    <tr>\n",
       "      <th>148</th>\n",
       "      <td>6.2</td>\n",
       "      <td>3.4</td>\n",
       "      <td>5.4</td>\n",
       "      <td>2.3</td>\n",
       "      <td>2</td>\n",
       "    </tr>\n",
       "    <tr>\n",
       "      <th>149</th>\n",
       "      <td>5.9</td>\n",
       "      <td>3.0</td>\n",
       "      <td>5.1</td>\n",
       "      <td>1.8</td>\n",
       "      <td>2</td>\n",
       "    </tr>\n",
       "  </tbody>\n",
       "</table>\n",
       "<p>150 rows × 5 columns</p>\n",
       "</div>"
      ],
      "text/plain": [
       "     sepal length  sepal width  petal length  petal width  species\n",
       "0             5.1          3.5           1.4          0.2        0\n",
       "1             4.9          3.0           1.4          0.2        0\n",
       "2             4.7          3.2           1.3          0.2        0\n",
       "3             4.6          3.1           1.5          0.2        0\n",
       "4             5.0          3.6           1.4          0.2        0\n",
       "..            ...          ...           ...          ...      ...\n",
       "145           6.7          3.0           5.2          2.3        2\n",
       "146           6.3          2.5           5.0          1.9        2\n",
       "147           6.5          3.0           5.2          2.0        2\n",
       "148           6.2          3.4           5.4          2.3        2\n",
       "149           5.9          3.0           5.1          1.8        2\n",
       "\n",
       "[150 rows x 5 columns]"
      ]
     },
     "execution_count": 2,
     "metadata": {},
     "output_type": "execute_result"
    }
   ],
   "source": [
    "import pandas as pd \n",
    "import numpy as np \n",
    "\n",
    "df = pd.read_csv('iris.csv', header = None)\n",
    "df[4] = df[4].replace({\"Iris-setosa\": 0, 'Iris-versicolor': 1, 'Iris-virginica':2})\n",
    "columns = {0:'sepal length', 1:'sepal width', 2:'petal length', 3:'petal width', 4:'species'}\n",
    "df = df.rename(columns=columns)\n",
    "df"
   ]
  },
  {
   "cell_type": "markdown",
   "metadata": {},
   "source": [
    "# Key\n",
    "0 = 'Iris-setosa'\n",
    "1 = 'Iris-versicolor'\n",
    "2 = 'Iris-virginica'"
   ]
  },
  {
   "cell_type": "code",
   "execution_count": 3,
   "metadata": {},
   "outputs": [],
   "source": [
    "from sklearn.metrics import accuracy_score\n",
    "from sklearn.model_selection import train_test_split\n",
    "\n",
    "XX = df[['sepal length', 'sepal width']] # features\n",
    "YY = df['species'] # output\n",
    "\n",
    "XX_train, XX_test, YY_train, YY_test = train_test_split(XX, YY, test_size=0.20, random_state=662)"
   ]
  },
  {
   "cell_type": "code",
   "execution_count": 4,
   "metadata": {},
   "outputs": [
    {
     "name": "stdout",
     "output_type": "stream",
     "text": [
      "SGD Classifier with Hinge Function Test Accuracy: 60.0\n",
      "SGD Classifier with Hinge Function Train Accuracy: 69.16666666666667\n"
     ]
    }
   ],
   "source": [
    "from sklearn.linear_model import SGDClassifier\n",
    "\n",
    "# SGD Classifier with Hinge Function\n",
    "SGDclf = SGDClassifier(loss='hinge')\n",
    "SGDclf.fit(XX_train,YY_train)\n",
    "test_predictions = SGDclf.predict(XX_test)\n",
    "train_predictions = SGDclf.predict(XX_train)\n",
    "test_accuracy = accuracy_score(YY_test, test_predictions)*100\n",
    "train_accuracy = accuracy_score(YY_train, train_predictions)*100\n",
    "\n",
    "print(f\"SGD Classifier with Hinge Function Test Accuracy: {test_accuracy}\")\n",
    "print(f\"SGD Classifier with Hinge Function Train Accuracy: {train_accuracy}\")"
   ]
  },
  {
   "cell_type": "code",
   "execution_count": 30,
   "metadata": {},
   "outputs": [
    {
     "name": "stdout",
     "output_type": "stream",
     "text": [
      "SGD Classifier with Modified Huber Function Test Accuracy: 63.33333333333333\n",
      "SGD Classifier with Modified Huber Function Train Accuracy: 70.0\n"
     ]
    }
   ],
   "source": [
    "# SGD Classifier with Modified Huber Function\n",
    "SGDclf = SGDClassifier(loss='modified_huber')\n",
    "SGDclf.fit(XX_train,YY_train)\n",
    "test_predictions = SGDclf.predict(XX_test)\n",
    "train_predictions = SGDclf.predict(XX_train)\n",
    "\n",
    "test_accuracy = accuracy_score(YY_test, test_predictions)*100\n",
    "train_accuracy = accuracy_score(YY_train, train_predictions)*100\n",
    "\n",
    "print(f\"SGD Classifier with Modified Huber Function Test Accuracy: {test_accuracy}\")\n",
    "print(f\"SGD Classifier with Modified Huber Function Train Accuracy: {train_accuracy}\")"
   ]
  },
  {
   "cell_type": "code",
   "execution_count": 29,
   "metadata": {},
   "outputs": [
    {
     "name": "stdout",
     "output_type": "stream",
     "text": [
      "Logistic Regression Test Accuracy: 80.0\n",
      "Logistic Regression Train Accuracy: 82.5\n"
     ]
    }
   ],
   "source": [
    "# Logistic Regression\n",
    "from sklearn.linear_model import LogisticRegression\n",
    "logistic_clf = LogisticRegression().fit(XX_train, YY_train)\n",
    "\n",
    "test_predictions = logistic_clf.predict(XX_test)\n",
    "train_predictions = logistic_clf.predict(XX_train)\n",
    "\n",
    "test_accuracy = accuracy_score(YY_test, test_predictions)*100\n",
    "train_accuracy = accuracy_score(YY_train, train_predictions)*100\n",
    "\n",
    "print(f\"Logistic Regression Test Accuracy: {test_accuracy}\")\n",
    "print(f\"Logistic Regression Train Accuracy: {train_accuracy}\")"
   ]
  },
  {
   "cell_type": "code",
   "execution_count": 28,
   "metadata": {},
   "outputs": [
    {
     "name": "stdout",
     "output_type": "stream",
     "text": [
      "Support Vector Machine with Linear Kernel Test Accuracy: 83.33333333333334\n",
      "Support Vector Machine with Linear Kernel Train Accuracy: 83.33333333333334\n"
     ]
    }
   ],
   "source": [
    "# Support Vector Machine with Linear Kernel \n",
    "from sklearn.svm import SVC\n",
    "svc_clf = SVC(kernel = 'linear')\n",
    "svc_clf.fit(XX_train, YY_train)\n",
    "\n",
    "test_predictions = svc_clf.predict(XX_test)\n",
    "train_predictions = svc_clf.predict(XX_train)\n",
    "\n",
    "test_accuracy = accuracy_score(YY_test, test_predictions)*100\n",
    "train_accuracy = accuracy_score(YY_train, train_predictions)*100\n",
    "\n",
    "print(f\"Support Vector Machine with Linear Kernel Test Accuracy: {test_accuracy}\")\n",
    "print(f\"Support Vector Machine with Linear Kernel Train Accuracy: {train_accuracy}\")"
   ]
  },
  {
   "cell_type": "code",
   "execution_count": 32,
   "metadata": {},
   "outputs": [
    {
     "name": "stdout",
     "output_type": "stream",
     "text": [
      "Support Vector Machine with RBF Kernel Test Accuracy: 83.33333333333334\n",
      "Support Vector Machine with RBF Kernel Train Accuracy: 83.33333333333334\n"
     ]
    }
   ],
   "source": [
    "# Support Vector Machine with RBF Kernel \n",
    "from sklearn.svm import SVC\n",
    "svc_clf = SVC(kernel = 'rbf')\n",
    "svc_clf.fit(XX_train, YY_train)\n",
    "\n",
    "test_predictions = svc_clf.predict(XX_test)\n",
    "train_predictions = svc_clf.predict(XX_train)\n",
    "\n",
    "test_accuracy = accuracy_score(YY_test, test_predictions)*100\n",
    "train_accuracy = accuracy_score(YY_train, train_predictions)*100\n",
    "\n",
    "print(f\"Support Vector Machine with RBF Kernel Test Accuracy: {test_accuracy}\")\n",
    "print(f\"Support Vector Machine with RBF Kernel Train Accuracy: {train_accuracy}\")"
   ]
  },
  {
   "cell_type": "code",
   "execution_count": 41,
   "metadata": {},
   "outputs": [
    {
     "name": "stdout",
     "output_type": "stream",
     "text": [
      "Decision Tree with Gini Impurity as Impurity Measure Test Accuracy: 83.33333333333334\n",
      "Decision Tree with Gini Impurity as Impurity Measure Train Accuracy: 83.33333333333334\n"
     ]
    }
   ],
   "source": [
    "# Decision Tree with Gini Impurity as Impurity Measure\n",
    "from sklearn.tree import DecisionTreeClassifier\n",
    "tree_clf = DecisionTreeClassifier(criterion='gini')\n",
    "tree_clf.fit(XX_train, YY_train)\n",
    "\n",
    "test_accuracy = tree_clf.predict(XX_test)\n",
    "train_accuracy = tree_clf.predict(XX_train)\n",
    "\n",
    "test_accuracy = accuracy_score(YY_test, test_predictions)*100\n",
    "train_accuracy = accuracy_score(YY_train, train_predictions)*100\n",
    "\n",
    "print(f\"Decision Tree with Gini Impurity as Impurity Measure Test Accuracy: {test_accuracy}\")\n",
    "print(f\"Decision Tree with Gini Impurity as Impurity Measure Train Accuracy: {train_accuracy}\")"
   ]
  },
  {
   "cell_type": "code",
   "execution_count": 49,
   "metadata": {},
   "outputs": [
    {
     "name": "stdout",
     "output_type": "stream",
     "text": [
      "Random Forest Test Accuracy: 76.66666666666667\n",
      "Random Forest Train Accuracy: 91.66666666666666\n"
     ]
    }
   ],
   "source": [
    "# Random Forest \n",
    "from sklearn.ensemble import RandomForestClassifier\n",
    "\n",
    "randomForest_clf = RandomForestClassifier()\n",
    "randomForest_clf.fit(XX_train, YY_train)\n",
    "\n",
    "test_predictions = randomForest_clf.predict(XX_test)\n",
    "train_predictions = randomForest_clf.predict(XX_train)\n",
    "\n",
    "test_accuracy = accuracy_score(YY_test, test_predictions)*100\n",
    "train_accuracy = accuracy_score(YY_train, train_predictions)*100\n",
    "\n",
    "print(f\"Random Forest Test Accuracy: {test_accuracy}\")\n",
    "print(f\"Random Forest Train Accuracy: {train_accuracy}\")"
   ]
  },
  {
   "cell_type": "code",
   "execution_count": 51,
   "metadata": {},
   "outputs": [
    {
     "name": "stdout",
     "output_type": "stream",
     "text": [
      "KNN with 10 as K value Test Accuracy: 76.66666666666667\n",
      "KNN with 10 as K value Train Accuracy: 82.5\n"
     ]
    }
   ],
   "source": [
    "# KNN with 10 as K value \n",
    "from sklearn.neighbors import KNeighborsClassifier\n",
    "knn = KNeighborsClassifier(n_neighbors=10)\n",
    "knn.fit(XX_train, YY_train)\n",
    "\n",
    "test_predictions = knn.predict(XX_test)\n",
    "train_predictions = knn.predict(XX_train)\n",
    "\n",
    "test_accuracy = accuracy_score(YY_test, test_predictions)*100\n",
    "train_accuracy = accuracy_score(YY_train, train_predictions)*100\n",
    "\n",
    "print(f\"KNN with 10 as K value Test Accuracy: {test_accuracy}\")\n",
    "print(f\"KNN with 10 as K value Train Accuracy: {train_accuracy}\")"
   ]
  },
  {
   "cell_type": "code",
   "execution_count": 67,
   "metadata": {},
   "outputs": [
    {
     "name": "stdout",
     "output_type": "stream",
     "text": [
      "KNN with 35 as K value Test Accuracy: 73.33333333333333\n",
      "KNN with 35 as K value Train Accuracy: 86.66666666666667\n"
     ]
    }
   ],
   "source": [
    "# KNN with 3 as K value \n",
    "from sklearn.neighbors import KNeighborsClassifier\n",
    "knn = KNeighborsClassifier(n_neighbors=3)\n",
    "knn.fit(XX_train, YY_train)\n",
    "\n",
    "test_predictions = knn.predict(XX_test)\n",
    "train_predictions = knn.predict(XX_train)\n",
    "\n",
    "test_accuracy = accuracy_score(YY_test, test_predictions)*100\n",
    "train_accuracy = accuracy_score(YY_train, train_predictions)*100\n",
    "\n",
    "print(f\"KNN with 35 as K value Test Accuracy: {test_accuracy}\")\n",
    "print(f\"KNN with 35 as K value Train Accuracy: {train_accuracy}\")"
   ]
  },
  {
   "cell_type": "markdown",
   "metadata": {},
   "source": [
    "# Resources\n",
    "https://scikit-learn.org/stable/modules/generated/sklearn.linear_model.LogisticRegression.html\n",
    "https://scikit-learn.org/stable/modules/generated/sklearn.metrics.accuracy_score.html\n",
    "https://www.tutorialspoint.com/scikit_learn/scikit_learn_support_vector_machines.htm\n",
    "https://scikit-learn.org/stable/modules/generated/sklearn.tree.DecisionTreeClassifier.html\n",
    "https://scikit-learn.org/stable/modules/generated/sklearn.ensemble.RandomForestClassifier.html\n",
    "https://scikit-learn.org/stable/modules/generated/sklearn.neighbors.KNeighborsClassifier.html"
   ]
  }
 ],
 "metadata": {
  "kernelspec": {
   "display_name": "Python 3",
   "language": "python",
   "name": "python3"
  },
  "language_info": {
   "codemirror_mode": {
    "name": "ipython",
    "version": 3
   },
   "file_extension": ".py",
   "mimetype": "text/x-python",
   "name": "python",
   "nbconvert_exporter": "python",
   "pygments_lexer": "ipython3",
   "version": "3.11.2"
  },
  "orig_nbformat": 4
 },
 "nbformat": 4,
 "nbformat_minor": 2
}
